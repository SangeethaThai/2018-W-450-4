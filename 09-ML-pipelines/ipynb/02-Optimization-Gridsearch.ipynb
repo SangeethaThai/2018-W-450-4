{
 "cells": [
  {
   "cell_type": "code",
   "execution_count": 1,
   "metadata": {},
   "outputs": [
    {
     "name": "stdout",
     "output_type": "stream",
     "text": [
      "/home/jovyan/2018-W-450-4/09-ML-pipelines\n"
     ]
    }
   ],
   "source": [
    "cd .. "
   ]
  },
  {
   "cell_type": "code",
   "execution_count": 2,
   "metadata": {},
   "outputs": [],
   "source": [
    "run __init__.py"
   ]
  },
  {
   "cell_type": "code",
   "execution_count": 3,
   "metadata": {},
   "outputs": [],
   "source": [
    "run src/load_data.py"
   ]
  },
  {
   "cell_type": "code",
   "execution_count": 16,
   "metadata": {},
   "outputs": [],
   "source": [
    "adult_train_df = data['adult']['train']['engineered']\n",
    "adult_train_target = data['adult']['train']['labels']"
   ]
  },
  {
   "cell_type": "code",
   "execution_count": 17,
   "metadata": {},
   "outputs": [],
   "source": [
    "from sklearn.model_selection import train_test_split"
   ]
  },
  {
   "cell_type": "code",
   "execution_count": 21,
   "metadata": {},
   "outputs": [],
   "source": [
    "X_train, X_test, y_train, y_test = train_test_split(adult_train_df,\n",
    "                                                    adult_train_target, \n",
    "                                                    test_size=0.25, \n",
    "                                                    random_state=42,\n",
    "                                                    stratify=adult_train_target)"
   ]
  },
  {
   "cell_type": "code",
   "execution_count": 7,
   "metadata": {},
   "outputs": [],
   "source": [
    "from sklearn.preprocessing import StandardScaler\n",
    "\n",
    "scaler = StandardScaler()\n",
    "\n",
    "X_train_scaled = scaler.fit_transform(X_train)\n",
    "X_test_scaled = scaler.transform(X_test)"
   ]
  },
  {
   "cell_type": "code",
   "execution_count": 8,
   "metadata": {},
   "outputs": [],
   "source": [
    "sample_perc = 1\n",
    "X_train_scaled = pd.DataFrame(X_train_scaled, columns=X_train.columns)\n",
    "y_train = pd.Series(y_train)"
   ]
  },
  {
   "cell_type": "code",
   "execution_count": 9,
   "metadata": {},
   "outputs": [],
   "source": [
    "X_train_scaled_sample = X_train_scaled.sample(frac=sample_perc/100)\n",
    "y_train_sample = y_train.iloc[X_train_scaled_sample.index]"
   ]
  },
  {
   "cell_type": "code",
   "execution_count": 10,
   "metadata": {},
   "outputs": [],
   "source": [
    "from sklearn.neighbors import KNeighborsClassifier\n",
    "from sklearn.linear_model import LogisticRegression\n",
    "from sklearn.tree import DecisionTreeClassifier\n",
    "from sklearn.svm import SVC\n",
    "\n",
    "from sklearn.model_selection import GridSearchCV"
   ]
  },
  {
   "cell_type": "code",
   "execution_count": 11,
   "metadata": {},
   "outputs": [],
   "source": [
    "knc_params = { 'n_neighbors' : range(5,51,10) }"
   ]
  },
  {
   "cell_type": "code",
   "execution_count": 12,
   "metadata": {},
   "outputs": [],
   "source": [
    "knc_gs = GridSearchCV(KNeighborsClassifier(), \n",
    "                      param_grid=knc_params,\n",
    "                      cv=5,\n",
    "                      return_train_score=True,\n",
    "                      scoring='f1')"
   ]
  },
  {
   "cell_type": "code",
   "execution_count": 13,
   "metadata": {},
   "outputs": [
    {
     "name": "stderr",
     "output_type": "stream",
     "text": [
      "/opt/conda/lib/python3.6/site-packages/sklearn/metrics/classification.py:1135: UndefinedMetricWarning: F-score is ill-defined and being set to 0.0 due to no predicted samples.\n",
      "  'precision', 'predicted', average, warn_for)\n",
      "/opt/conda/lib/python3.6/site-packages/sklearn/metrics/classification.py:1135: UndefinedMetricWarning: F-score is ill-defined and being set to 0.0 due to no predicted samples.\n",
      "  'precision', 'predicted', average, warn_for)\n",
      "/opt/conda/lib/python3.6/site-packages/sklearn/metrics/classification.py:1135: UndefinedMetricWarning: F-score is ill-defined and being set to 0.0 due to no predicted samples.\n",
      "  'precision', 'predicted', average, warn_for)\n",
      "/opt/conda/lib/python3.6/site-packages/sklearn/metrics/classification.py:1135: UndefinedMetricWarning: F-score is ill-defined and being set to 0.0 due to no predicted samples.\n",
      "  'precision', 'predicted', average, warn_for)\n",
      "/opt/conda/lib/python3.6/site-packages/sklearn/metrics/classification.py:1135: UndefinedMetricWarning: F-score is ill-defined and being set to 0.0 due to no predicted samples.\n",
      "  'precision', 'predicted', average, warn_for)\n",
      "/opt/conda/lib/python3.6/site-packages/sklearn/metrics/classification.py:1135: UndefinedMetricWarning: F-score is ill-defined and being set to 0.0 due to no predicted samples.\n",
      "  'precision', 'predicted', average, warn_for)\n",
      "/opt/conda/lib/python3.6/site-packages/sklearn/metrics/classification.py:1135: UndefinedMetricWarning: F-score is ill-defined and being set to 0.0 due to no predicted samples.\n",
      "  'precision', 'predicted', average, warn_for)\n",
      "/opt/conda/lib/python3.6/site-packages/sklearn/metrics/classification.py:1135: UndefinedMetricWarning: F-score is ill-defined and being set to 0.0 due to no predicted samples.\n",
      "  'precision', 'predicted', average, warn_for)\n",
      "/opt/conda/lib/python3.6/site-packages/sklearn/metrics/classification.py:1135: UndefinedMetricWarning: F-score is ill-defined and being set to 0.0 due to no predicted samples.\n",
      "  'precision', 'predicted', average, warn_for)\n",
      "/opt/conda/lib/python3.6/site-packages/sklearn/metrics/classification.py:1135: UndefinedMetricWarning: F-score is ill-defined and being set to 0.0 due to no predicted samples.\n",
      "  'precision', 'predicted', average, warn_for)\n",
      "/opt/conda/lib/python3.6/site-packages/sklearn/metrics/classification.py:1135: UndefinedMetricWarning: F-score is ill-defined and being set to 0.0 due to no predicted samples.\n",
      "  'precision', 'predicted', average, warn_for)\n"
     ]
    },
    {
     "data": {
      "text/plain": [
       "GridSearchCV(cv=5, error_score='raise',\n",
       "       estimator=KNeighborsClassifier(algorithm='auto', leaf_size=30, metric='minkowski',\n",
       "           metric_params=None, n_jobs=1, n_neighbors=5, p=2,\n",
       "           weights='uniform'),\n",
       "       fit_params=None, iid=True, n_jobs=1,\n",
       "       param_grid={'n_neighbors': range(5, 51, 10)},\n",
       "       pre_dispatch='2*n_jobs', refit=True, return_train_score=True,\n",
       "       scoring='f1', verbose=0)"
      ]
     },
     "execution_count": 13,
     "metadata": {},
     "output_type": "execute_result"
    }
   ],
   "source": [
    "knc_gs.fit(X_train_scaled_sample, y_train_sample)"
   ]
  },
  {
   "cell_type": "code",
   "execution_count": 14,
   "metadata": {},
   "outputs": [
    {
     "data": {
      "text/html": [
       "<div>\n",
       "<table border=\"1\" class=\"dataframe\">\n",
       "  <thead>\n",
       "    <tr style=\"text-align: right;\">\n",
       "      <th></th>\n",
       "      <th>0</th>\n",
       "      <th>1</th>\n",
       "      <th>2</th>\n",
       "      <th>3</th>\n",
       "      <th>4</th>\n",
       "    </tr>\n",
       "  </thead>\n",
       "  <tbody>\n",
       "    <tr>\n",
       "      <th>mean_fit_time</th>\n",
       "      <td>0.00252371</td>\n",
       "      <td>0.00174775</td>\n",
       "      <td>0.0017633</td>\n",
       "      <td>0.0017467</td>\n",
       "      <td>0.001752</td>\n",
       "    </tr>\n",
       "    <tr>\n",
       "      <th>mean_score_time</th>\n",
       "      <td>0.00221848</td>\n",
       "      <td>0.00267725</td>\n",
       "      <td>0.00238934</td>\n",
       "      <td>0.00246582</td>\n",
       "      <td>0.00258274</td>\n",
       "    </tr>\n",
       "    <tr>\n",
       "      <th>mean_test_score</th>\n",
       "      <td>0.58155</td>\n",
       "      <td>0.293278</td>\n",
       "      <td>0.15029</td>\n",
       "      <td>0.0787234</td>\n",
       "      <td>0</td>\n",
       "    </tr>\n",
       "    <tr>\n",
       "      <th>mean_train_score</th>\n",
       "      <td>0.705896</td>\n",
       "      <td>0.441542</td>\n",
       "      <td>0.239349</td>\n",
       "      <td>0.0745865</td>\n",
       "      <td>0</td>\n",
       "    </tr>\n",
       "    <tr>\n",
       "      <th>param_n_neighbors</th>\n",
       "      <td>5</td>\n",
       "      <td>15</td>\n",
       "      <td>25</td>\n",
       "      <td>35</td>\n",
       "      <td>45</td>\n",
       "    </tr>\n",
       "    <tr>\n",
       "      <th>params</th>\n",
       "      <td>{'n_neighbors': 5}</td>\n",
       "      <td>{'n_neighbors': 15}</td>\n",
       "      <td>{'n_neighbors': 25}</td>\n",
       "      <td>{'n_neighbors': 35}</td>\n",
       "      <td>{'n_neighbors': 45}</td>\n",
       "    </tr>\n",
       "    <tr>\n",
       "      <th>rank_test_score</th>\n",
       "      <td>1</td>\n",
       "      <td>2</td>\n",
       "      <td>3</td>\n",
       "      <td>4</td>\n",
       "      <td>5</td>\n",
       "    </tr>\n",
       "    <tr>\n",
       "      <th>split0_test_score</th>\n",
       "      <td>0.5</td>\n",
       "      <td>0.181818</td>\n",
       "      <td>0</td>\n",
       "      <td>0</td>\n",
       "      <td>0</td>\n",
       "    </tr>\n",
       "    <tr>\n",
       "      <th>split0_train_score</th>\n",
       "      <td>0.603774</td>\n",
       "      <td>0.25641</td>\n",
       "      <td>0.0588235</td>\n",
       "      <td>0</td>\n",
       "      <td>0</td>\n",
       "    </tr>\n",
       "    <tr>\n",
       "      <th>split1_test_score</th>\n",
       "      <td>0.571429</td>\n",
       "      <td>0.2</td>\n",
       "      <td>0</td>\n",
       "      <td>0</td>\n",
       "      <td>0</td>\n",
       "    </tr>\n",
       "    <tr>\n",
       "      <th>split1_train_score</th>\n",
       "      <td>0.757576</td>\n",
       "      <td>0.409091</td>\n",
       "      <td>0.166667</td>\n",
       "      <td>0</td>\n",
       "      <td>0</td>\n",
       "    </tr>\n",
       "    <tr>\n",
       "      <th>split2_test_score</th>\n",
       "      <td>0.769231</td>\n",
       "      <td>0.461538</td>\n",
       "      <td>0.4</td>\n",
       "      <td>0.4</td>\n",
       "      <td>0</td>\n",
       "    </tr>\n",
       "    <tr>\n",
       "      <th>split2_train_score</th>\n",
       "      <td>0.727273</td>\n",
       "      <td>0.607143</td>\n",
       "      <td>0.409091</td>\n",
       "      <td>0.105263</td>\n",
       "      <td>0</td>\n",
       "    </tr>\n",
       "    <tr>\n",
       "      <th>split3_test_score</th>\n",
       "      <td>0.545455</td>\n",
       "      <td>0</td>\n",
       "      <td>0</td>\n",
       "      <td>0</td>\n",
       "      <td>0</td>\n",
       "    </tr>\n",
       "    <tr>\n",
       "      <th>split3_train_score</th>\n",
       "      <td>0.666667</td>\n",
       "      <td>0.238095</td>\n",
       "      <td>0.162162</td>\n",
       "      <td>0.0571429</td>\n",
       "      <td>0</td>\n",
       "    </tr>\n",
       "    <tr>\n",
       "      <th>split4_test_score</th>\n",
       "      <td>0.526316</td>\n",
       "      <td>0.631579</td>\n",
       "      <td>0.363636</td>\n",
       "      <td>0</td>\n",
       "      <td>0</td>\n",
       "    </tr>\n",
       "    <tr>\n",
       "      <th>split4_train_score</th>\n",
       "      <td>0.774194</td>\n",
       "      <td>0.69697</td>\n",
       "      <td>0.4</td>\n",
       "      <td>0.210526</td>\n",
       "      <td>0</td>\n",
       "    </tr>\n",
       "    <tr>\n",
       "      <th>std_fit_time</th>\n",
       "      <td>0.00156806</td>\n",
       "      <td>3.92065e-05</td>\n",
       "      <td>5.61773e-05</td>\n",
       "      <td>4.37115e-05</td>\n",
       "      <td>1.3635e-05</td>\n",
       "    </tr>\n",
       "    <tr>\n",
       "      <th>std_score_time</th>\n",
       "      <td>0.000132879</td>\n",
       "      <td>0.000986264</td>\n",
       "      <td>0.000115389</td>\n",
       "      <td>0.000101052</td>\n",
       "      <td>3.95698e-05</td>\n",
       "    </tr>\n",
       "    <tr>\n",
       "      <th>std_test_score</th>\n",
       "      <td>0.0958622</td>\n",
       "      <td>0.222171</td>\n",
       "      <td>0.186886</td>\n",
       "      <td>0.159035</td>\n",
       "      <td>0</td>\n",
       "    </tr>\n",
       "    <tr>\n",
       "      <th>std_train_score</th>\n",
       "      <td>0.0628653</td>\n",
       "      <td>0.184057</td>\n",
       "      <td>0.140322</td>\n",
       "      <td>0.078551</td>\n",
       "      <td>0</td>\n",
       "    </tr>\n",
       "  </tbody>\n",
       "</table>\n",
       "</div>"
      ],
      "text/plain": [
       "                                     0                    1  \\\n",
       "mean_fit_time               0.00252371           0.00174775   \n",
       "mean_score_time             0.00221848           0.00267725   \n",
       "mean_test_score                0.58155             0.293278   \n",
       "mean_train_score              0.705896             0.441542   \n",
       "param_n_neighbors                    5                   15   \n",
       "params              {'n_neighbors': 5}  {'n_neighbors': 15}   \n",
       "rank_test_score                      1                    2   \n",
       "split0_test_score                  0.5             0.181818   \n",
       "split0_train_score            0.603774              0.25641   \n",
       "split1_test_score             0.571429                  0.2   \n",
       "split1_train_score            0.757576             0.409091   \n",
       "split2_test_score             0.769231             0.461538   \n",
       "split2_train_score            0.727273             0.607143   \n",
       "split3_test_score             0.545455                    0   \n",
       "split3_train_score            0.666667             0.238095   \n",
       "split4_test_score             0.526316             0.631579   \n",
       "split4_train_score            0.774194              0.69697   \n",
       "std_fit_time                0.00156806          3.92065e-05   \n",
       "std_score_time             0.000132879          0.000986264   \n",
       "std_test_score               0.0958622             0.222171   \n",
       "std_train_score              0.0628653             0.184057   \n",
       "\n",
       "                                      2                    3  \\\n",
       "mean_fit_time                 0.0017633            0.0017467   \n",
       "mean_score_time              0.00238934           0.00246582   \n",
       "mean_test_score                 0.15029            0.0787234   \n",
       "mean_train_score               0.239349            0.0745865   \n",
       "param_n_neighbors                    25                   35   \n",
       "params              {'n_neighbors': 25}  {'n_neighbors': 35}   \n",
       "rank_test_score                       3                    4   \n",
       "split0_test_score                     0                    0   \n",
       "split0_train_score            0.0588235                    0   \n",
       "split1_test_score                     0                    0   \n",
       "split1_train_score             0.166667                    0   \n",
       "split2_test_score                   0.4                  0.4   \n",
       "split2_train_score             0.409091             0.105263   \n",
       "split3_test_score                     0                    0   \n",
       "split3_train_score             0.162162            0.0571429   \n",
       "split4_test_score              0.363636                    0   \n",
       "split4_train_score                  0.4             0.210526   \n",
       "std_fit_time                5.61773e-05          4.37115e-05   \n",
       "std_score_time              0.000115389          0.000101052   \n",
       "std_test_score                 0.186886             0.159035   \n",
       "std_train_score                0.140322             0.078551   \n",
       "\n",
       "                                      4  \n",
       "mean_fit_time                  0.001752  \n",
       "mean_score_time              0.00258274  \n",
       "mean_test_score                       0  \n",
       "mean_train_score                      0  \n",
       "param_n_neighbors                    45  \n",
       "params              {'n_neighbors': 45}  \n",
       "rank_test_score                       5  \n",
       "split0_test_score                     0  \n",
       "split0_train_score                    0  \n",
       "split1_test_score                     0  \n",
       "split1_train_score                    0  \n",
       "split2_test_score                     0  \n",
       "split2_train_score                    0  \n",
       "split3_test_score                     0  \n",
       "split3_train_score                    0  \n",
       "split4_test_score                     0  \n",
       "split4_train_score                    0  \n",
       "std_fit_time                 1.3635e-05  \n",
       "std_score_time              3.95698e-05  \n",
       "std_test_score                        0  \n",
       "std_train_score                       0  "
      ]
     },
     "execution_count": 14,
     "metadata": {},
     "output_type": "execute_result"
    }
   ],
   "source": [
    "pd.DataFrame(knc_gs.cv_results_).T"
   ]
  },
  {
   "cell_type": "code",
   "execution_count": null,
   "metadata": {},
   "outputs": [],
   "source": []
  }
 ],
 "metadata": {
  "kernelspec": {
   "display_name": "Python 3",
   "language": "python",
   "name": "python3"
  },
  "language_info": {
   "codemirror_mode": {
    "name": "ipython",
    "version": 3
   },
   "file_extension": ".py",
   "mimetype": "text/x-python",
   "name": "python",
   "nbconvert_exporter": "python",
   "pygments_lexer": "ipython3",
   "version": "3.6.4"
  }
 },
 "nbformat": 4,
 "nbformat_minor": 2
}
